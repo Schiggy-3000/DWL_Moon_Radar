{
 "cells": [
  {
   "cell_type": "markdown",
   "metadata": {},
   "source": [
    "## Content\n",
    "\n",
    "1. Goal\n",
    "2. Setup\n",
    "3. Connect to API using PRAW\n",
    "4. Retrieve Data from Subreddit\n",
    "5. Store Data"
   ]
  },
  {
   "cell_type": "markdown",
   "metadata": {},
   "source": [
    "## Goal\n",
    "\n",
    "The following data is retrieved through the API:\n",
    "- Name of subreddit\n",
    "- Number of subscribers in subreddit\n",
    "- Number of posts in subreddit\n",
    "- Date of posts\n",
    "- Number of comments in posts"
   ]
  },
  {
   "cell_type": "markdown",
   "metadata": {},
   "source": [
    "Coins for which data is pulled:\n",
    "- Audius\n",
    "- Ecomi\n",
    "- FTX"
   ]
  },
  {
   "cell_type": "markdown",
   "metadata": {},
   "source": [
    "Coins that are interesting but have no reddit yet:\n",
    "- Convex Finance\n",
    "- Dopex\n",
    "- Rari Governance Token\n",
    "- Spell Token\n",
    "- Raydium\n",
    "- GMX\n",
    "- NFTX\n",
    "- OCEAN\n",
    "- Gro DAO Token\n",
    "- Ribbon Finance"
   ]
  },
  {
   "cell_type": "markdown",
   "metadata": {},
   "source": [
    "## Setup"
   ]
  },
  {
   "cell_type": "code",
   "execution_count": 1,
   "metadata": {},
   "outputs": [],
   "source": [
    "# If you installed Python using Anaconda or Miniconda, then use conda:\n",
    "# conda install -c conda-forge praw\n",
    "\n",
    "# If you installed Python any other way, then use pip:\n",
    "# !pip install praw"
   ]
  },
  {
   "cell_type": "code",
   "execution_count": 2,
   "metadata": {},
   "outputs": [],
   "source": [
    "import praw          # Reddit API wrapper\n",
    "import pprint        # Formats data structure outputs. https://docs.python.org/3/library/pprint.html\n",
    "import pandas as pd  # For organising data in tables\n",
    "from datetime import datetime  # Needed for date & datetime functions"
   ]
  },
  {
   "cell_type": "code",
   "execution_count": 3,
   "metadata": {},
   "outputs": [],
   "source": [
    "# pd.options.display.max_rows = 4000\n",
    "# pd.options.display.max_columns = 50"
   ]
  },
  {
   "cell_type": "markdown",
   "metadata": {},
   "source": [
    "## Connect to API using PRAW\n",
    "PRAW: Python Reddit API Wrapper\n",
    "\n",
    "API documentation\n",
    "https://praw.readthedocs.io/en/v7.4.0/code_overview/models/subreddit.html\n",
    "\n",
    "Introduction guide\n",
    "https://gilberttanner.com/blog/scraping-redditdata"
   ]
  },
  {
   "cell_type": "code",
   "execution_count": 4,
   "metadata": {},
   "outputs": [],
   "source": [
    "my_client_id     = \"qIZJdlnEWYTd4pUr6QtrhQ\"\n",
    "my_client_secret = \"foKDZFlOxPkoQDjzzpRU4myPPs-kVQ\"\n",
    "my_user_agent    = \"Schiggy\"\n",
    "\n",
    "reddit = praw.Reddit(client_id     = my_client_id,\n",
    "                     client_secret = my_client_secret,\n",
    "                     user_agent    = my_user_agent)"
   ]
  },
  {
   "cell_type": "markdown",
   "metadata": {},
   "source": [
    "## Retrieve Data from Subreddits"
   ]
  },
  {
   "cell_type": "markdown",
   "metadata": {},
   "source": [
    "#### Get X newest posts"
   ]
  },
  {
   "cell_type": "code",
   "execution_count": 5,
   "metadata": {},
   "outputs": [
    {
     "data": {
      "text/html": [
       "<div>\n",
       "<style scoped>\n",
       "    .dataframe tbody tr th:only-of-type {\n",
       "        vertical-align: middle;\n",
       "    }\n",
       "\n",
       "    .dataframe tbody tr th {\n",
       "        vertical-align: top;\n",
       "    }\n",
       "\n",
       "    .dataframe thead th {\n",
       "        text-align: right;\n",
       "    }\n",
       "</style>\n",
       "<table border=\"1\" class=\"dataframe\">\n",
       "  <thead>\n",
       "    <tr style=\"text-align: right;\">\n",
       "      <th></th>\n",
       "      <th>post_title</th>\n",
       "      <th>num_comments</th>\n",
       "      <th>subreddit</th>\n",
       "      <th>subreddit_subscribers</th>\n",
       "      <th>date</th>\n",
       "      <th>date_unix</th>\n",
       "    </tr>\n",
       "  </thead>\n",
       "  <tbody>\n",
       "    <tr>\n",
       "      <th>0</th>\n",
       "      <td>Music NFT'S</td>\n",
       "      <td>0</td>\n",
       "      <td>ecomi</td>\n",
       "      <td>22457</td>\n",
       "      <td>31-10-2021</td>\n",
       "      <td>1.635690e+09</td>\n",
       "    </tr>\n",
       "    <tr>\n",
       "      <th>1</th>\n",
       "      <td>Fresh music !!</td>\n",
       "      <td>0</td>\n",
       "      <td>audius</td>\n",
       "      <td>8065</td>\n",
       "      <td>31-10-2021</td>\n",
       "      <td>1.635690e+09</td>\n",
       "    </tr>\n",
       "    <tr>\n",
       "      <th>2</th>\n",
       "      <td>The Toys that Made Us</td>\n",
       "      <td>1</td>\n",
       "      <td>ecomi</td>\n",
       "      <td>22457</td>\n",
       "      <td>31-10-2021</td>\n",
       "      <td>1.635685e+09</td>\n",
       "    </tr>\n",
       "  </tbody>\n",
       "</table>\n",
       "</div>"
      ],
      "text/plain": [
       "              post_title  num_comments subreddit  subreddit_subscribers  \\\n",
       "0            Music NFT'S             0     ecomi                  22457   \n",
       "1         Fresh music !!             0    audius                   8065   \n",
       "2  The Toys that Made Us             1     ecomi                  22457   \n",
       "\n",
       "         date     date_unix  \n",
       "0  31-10-2021  1.635690e+09  \n",
       "1  31-10-2021  1.635690e+09  \n",
       "2  31-10-2021  1.635685e+09  "
      ]
     },
     "execution_count": 5,
     "metadata": {},
     "output_type": "execute_result"
    }
   ],
   "source": [
    "x_newest_posts = 100000\n",
    "\n",
    "subr_1 = \"audius\"\n",
    "subr_2 = \"ecomi\"\n",
    "subr_3 = \"FTXOfficial\"\n",
    "subreddits = subr_1 + \"+\" + subr_2 + \"+\" + subr_3\n",
    "model = reddit.subreddit(subreddits)\n",
    "\n",
    "posts = []\n",
    "\n",
    "for post in model.new(limit=x_newest_posts):\n",
    "    \n",
    "    # Convert post createn date to readable format\n",
    "    unix_date     = int(post.created)\n",
    "    readable_date = datetime.utcfromtimestamp(unix_date).strftime(\"%d-%m-%Y\")\n",
    "    \n",
    "    posts.append([post.title,\n",
    "                  post.num_comments,\n",
    "                  post.subreddit,\n",
    "                  post.subreddit_subscribers,\n",
    "                  readable_date,\n",
    "                  post.created])\n",
    "\n",
    "        \n",
    "df_today = pd.DataFrame(posts, columns = ['post_title',\n",
    "                                          'num_comments',\n",
    "                                          'subreddit',\n",
    "                                          'subreddit_subscribers',\n",
    "                                          'date',\n",
    "                                          'date_unix'])\n",
    "\n",
    "df_today.head(3)"
   ]
  },
  {
   "cell_type": "markdown",
   "metadata": {},
   "source": [
    "## Store Data"
   ]
  },
  {
   "cell_type": "code",
   "execution_count": 6,
   "metadata": {},
   "outputs": [],
   "source": [
    "df_today.to_csv(\"./Datasets/historical_data_reddit.csv\", index= False)"
   ]
  }
 ],
 "metadata": {
  "kernelspec": {
   "display_name": "Python 3",
   "language": "python",
   "name": "python3"
  },
  "language_info": {
   "codemirror_mode": {
    "name": "ipython",
    "version": 3
   },
   "file_extension": ".py",
   "mimetype": "text/x-python",
   "name": "python",
   "nbconvert_exporter": "python",
   "pygments_lexer": "ipython3",
   "version": "3.8.5"
  }
 },
 "nbformat": 4,
 "nbformat_minor": 5
}
