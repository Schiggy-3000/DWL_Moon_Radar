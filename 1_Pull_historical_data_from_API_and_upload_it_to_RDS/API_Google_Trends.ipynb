{
 "cells": [
  {
   "cell_type": "markdown",
   "metadata": {},
   "source": [
    "## Content\n",
    "\n",
    "1. Goal\n",
    "2. Setup\n",
    "3. Retrieve Data for Keywords\n",
    "4. Store Data"
   ]
  },
  {
   "cell_type": "markdown",
   "metadata": {},
   "source": [
    "## Goal\n",
    "\n",
    "For every keyword, the following data is retrieved through the API:\n",
    "\n",
    "- Keyword\n",
    "- Category the keyword belongs to\n",
    "- How often the keyword was searched for on google\n",
    "- Date"
   ]
  },
  {
   "cell_type": "markdown",
   "metadata": {},
   "source": [
    "Coins for which data is pulled:\n",
    "- Audius\n",
    "- Ecomi\n",
    "- FTX\n",
    "- Convex Finance\n",
    "- Dopex\n",
    "- Rari Governance Token\n",
    "- Spell Token\n",
    "- Raydium\n",
    "- GMX\n",
    "- NFTX\n",
    "- OCEAN\n",
    "- Gro DAO Token\n",
    "- Ribbon Finance"
   ]
  },
  {
   "cell_type": "markdown",
   "metadata": {},
   "source": [
    "## Setup"
   ]
  },
  {
   "cell_type": "code",
   "execution_count": 1,
   "metadata": {},
   "outputs": [],
   "source": [
    "# If you installed Python using Anaconda or Miniconda, then use conda:\n",
    "# conda install ...\n",
    "\n",
    "# If you installed Python any other way, then use pip:\n",
    "# !pip install pytrends"
   ]
  },
  {
   "cell_type": "code",
   "execution_count": 2,
   "metadata": {},
   "outputs": [],
   "source": [
    "import sys\n",
    "from pytrends.request import TrendReq\n",
    "import pandas as pd\n",
    "from datetime import datetime"
   ]
  },
  {
   "cell_type": "code",
   "execution_count": 3,
   "metadata": {},
   "outputs": [],
   "source": [
    "# pd.options.display.max_rows = 4000\n",
    "# pd.options.display.max_columns = 50"
   ]
  },
  {
   "cell_type": "markdown",
   "metadata": {},
   "source": [
    "## Retrieve Data for Keywords"
   ]
  },
  {
   "cell_type": "code",
   "execution_count": 4,
   "metadata": {},
   "outputs": [
    {
     "data": {
      "text/html": [
       "<div>\n",
       "<style scoped>\n",
       "    .dataframe tbody tr th:only-of-type {\n",
       "        vertical-align: middle;\n",
       "    }\n",
       "\n",
       "    .dataframe tbody tr th {\n",
       "        vertical-align: top;\n",
       "    }\n",
       "\n",
       "    .dataframe thead th {\n",
       "        text-align: right;\n",
       "    }\n",
       "</style>\n",
       "<table border=\"1\" class=\"dataframe\">\n",
       "  <thead>\n",
       "    <tr style=\"text-align: right;\">\n",
       "      <th></th>\n",
       "      <th>date</th>\n",
       "      <th>convex finance</th>\n",
       "      <th>ribbon finance</th>\n",
       "      <th>rari governance token</th>\n",
       "      <th>gmx</th>\n",
       "      <th>nftx</th>\n",
       "      <th>category</th>\n",
       "    </tr>\n",
       "  </thead>\n",
       "  <tbody>\n",
       "    <tr>\n",
       "      <th>5046</th>\n",
       "      <td>2021-10-23 21:00:00</td>\n",
       "      <td>0</td>\n",
       "      <td>0</td>\n",
       "      <td>0</td>\n",
       "      <td>23</td>\n",
       "      <td>0</td>\n",
       "      <td>News</td>\n",
       "    </tr>\n",
       "    <tr>\n",
       "      <th>1371</th>\n",
       "      <td>2021-10-26 19:00:00</td>\n",
       "      <td>0</td>\n",
       "      <td>0</td>\n",
       "      <td>0</td>\n",
       "      <td>25</td>\n",
       "      <td>0</td>\n",
       "      <td>Currencies &amp; Foreign Exchange</td>\n",
       "    </tr>\n",
       "    <tr>\n",
       "      <th>4068</th>\n",
       "      <td>2021-10-14 10:00:00</td>\n",
       "      <td>0</td>\n",
       "      <td>0</td>\n",
       "      <td>0</td>\n",
       "      <td>81</td>\n",
       "      <td>0</td>\n",
       "      <td>Financial Markets</td>\n",
       "    </tr>\n",
       "  </tbody>\n",
       "</table>\n",
       "</div>"
      ],
      "text/plain": [
       "                    date  convex finance  ribbon finance  \\\n",
       "5046 2021-10-23 21:00:00               0               0   \n",
       "1371 2021-10-26 19:00:00               0               0   \n",
       "4068 2021-10-14 10:00:00               0               0   \n",
       "\n",
       "      rari governance token  gmx  nftx                       category  \n",
       "5046                      0   23     0                           News  \n",
       "1371                      0   25     0  Currencies & Foreign Exchange  \n",
       "4068                      0   81     0              Financial Markets  "
      ]
     },
     "execution_count": 4,
     "metadata": {},
     "output_type": "execute_result"
    }
   ],
   "source": [
    "from pytrends.request import TrendReq\n",
    "import pandas as pd\n",
    "from datetime import datetime\n",
    "\n",
    "# Only 5 keywords per request possible\n",
    "kw_list1 = [\"convex finance\", \"ribbon finance\", \"rari governance token\", \"gmx\", \"nftx\"]\n",
    "kw_list2 = [\"ftx token\", \"audius\", \"ecomi\", \"spell token\", \"dopex\"]\n",
    "kw_list3 = [\"gro dao token\",  \"raydium\"]\n",
    "\n",
    "cat = {7:    \"Finance\",\n",
    "       814:  \"Currencies & Foreign Exchange\",\n",
    "       12:   \"Business & Industrial\",\n",
    "       784:  \"Business News\",\n",
    "       1164: \"Economy News\",\n",
    "       1163: \"Financial Markets\",\n",
    "       16:   \"News\"}\n",
    "\n",
    "df_google_trends_historical_data = pd.DataFrame()\n",
    "\n",
    "pytrend = TrendReq(hl='en-US', tz=360)\n",
    "\n",
    "for key in cat:\n",
    "    cat_selected = key\n",
    "\n",
    "    interest_over_time_df1 = pytrend.get_historical_interest(kw_list1, year_start=2021, month_start=10, year_end=2021, month_end=11, geo='', gprop='', cat=cat_selected,sleep=1).drop(columns=['isPartial'])\n",
    "    interest_over_time_df2 = pytrend.get_historical_interest(kw_list2, year_start=2021, month_start=10, year_end=2021, month_end=11, geo='', gprop='', cat=cat_selected,sleep=1).drop(columns=['isPartial'])\n",
    "    interest_over_time_df3 = pytrend.get_historical_interest(kw_list3, year_start=2021, month_start=10, year_end=2021, month_end=11, geo='', gprop='', cat=cat_selected,sleep=1).drop(columns=['isPartial'])\n",
    "\n",
    "    df = pd.concat([interest_over_time_df1, interest_over_time_df2, interest_over_time_df3], axis=1)\n",
    "    df[\"category\"]= cat[cat_selected]\n",
    "    df.reset_index(inplace=True)\n",
    "    df_google_trends_historical_data = df_google_trends_historical_data.append(df, ignore_index=True)\n",
    "\n",
    "\n",
    "df_google_trends_historical_data.sample(3)"
   ]
  },
  {
   "cell_type": "markdown",
   "metadata": {},
   "source": [
    "## Store Data"
   ]
  },
  {
   "cell_type": "code",
   "execution_count": 5,
   "metadata": {},
   "outputs": [],
   "source": [
    "df_google_trends_historical_data.to_csv(\"./Datasets/historical_data_google.csv\", index= False)"
   ]
  }
 ],
 "metadata": {
  "kernelspec": {
   "display_name": "Python 3",
   "language": "python",
   "name": "python3"
  },
  "language_info": {
   "codemirror_mode": {
    "name": "ipython",
    "version": 3
   },
   "file_extension": ".py",
   "mimetype": "text/x-python",
   "name": "python",
   "nbconvert_exporter": "python",
   "pygments_lexer": "ipython3",
   "version": "3.8.5"
  }
 },
 "nbformat": 4,
 "nbformat_minor": 5
}
