{
 "cells": [
  {
   "cell_type": "markdown",
   "metadata": {},
   "source": [
    "## Content\n",
    "\n",
    "1. Goal\n",
    "2. Setup\n",
    "3. Retrieve Data from Coins\n",
    "4. Store Data"
   ]
  },
  {
   "cell_type": "markdown",
   "metadata": {},
   "source": [
    "## Goal\n",
    "\n",
    "The following data is retrieved through the API:\n",
    "- Name of coin\n",
    "- Price\n",
    "- Market caps\n",
    "- Total volumes\n",
    "- Date"
   ]
  },
  {
   "cell_type": "markdown",
   "metadata": {},
   "source": [
    "Coins for which data is pulled:\n",
    "- Audius\n",
    "- Ecomi\n",
    "- FTX\n",
    "- Convex Finance\n",
    "- Dopex\n",
    "- Rari Governance Token\n",
    "- Spell Token\n",
    "- Raydium\n",
    "- GMX\n",
    "- NFTX\n",
    "- OCEAN\n",
    "- Gro DAO Token\n",
    "- Ribbon Finance"
   ]
  },
  {
   "cell_type": "markdown",
   "metadata": {},
   "source": [
    "## Setup"
   ]
  },
  {
   "cell_type": "code",
   "execution_count": 1,
   "metadata": {},
   "outputs": [],
   "source": [
    "# If you installed Python using Anaconda or Miniconda, then use conda:\n",
    "# conda install ...\n",
    "\n",
    "# If you installed Python any other way, then use pip:\n",
    "# !pip install datetime"
   ]
  },
  {
   "cell_type": "code",
   "execution_count": 2,
   "metadata": {},
   "outputs": [],
   "source": [
    "import sys\n",
    "import requests\n",
    "import pandas as pd\n",
    "from datetime import datetime"
   ]
  },
  {
   "cell_type": "code",
   "execution_count": 3,
   "metadata": {},
   "outputs": [],
   "source": [
    "# pd.options.display.max_rows = 4000\n",
    "# pd.options.display.max_columns = 50"
   ]
  },
  {
   "cell_type": "markdown",
   "metadata": {},
   "source": [
    "## Retrieve Data from Coins"
   ]
  },
  {
   "cell_type": "markdown",
   "metadata": {},
   "source": [
    "Get historical market data include price, market cap, and 24h volume (granularity auto) \\\n",
    "Minutely data will be used for duration within 1 day, Hourly data will be used for duration between 1 day and 90 days, Daily data will be used for duration above 90 days."
   ]
  },
  {
   "cell_type": "code",
   "execution_count": 4,
   "metadata": {},
   "outputs": [
    {
     "data": {
      "text/html": [
       "<div>\n",
       "<style scoped>\n",
       "    .dataframe tbody tr th:only-of-type {\n",
       "        vertical-align: middle;\n",
       "    }\n",
       "\n",
       "    .dataframe tbody tr th {\n",
       "        vertical-align: top;\n",
       "    }\n",
       "\n",
       "    .dataframe thead th {\n",
       "        text-align: right;\n",
       "    }\n",
       "</style>\n",
       "<table border=\"1\" class=\"dataframe\">\n",
       "  <thead>\n",
       "    <tr style=\"text-align: right;\">\n",
       "      <th></th>\n",
       "      <th>prices</th>\n",
       "      <th>market_caps</th>\n",
       "      <th>total_volumes</th>\n",
       "      <th>coin</th>\n",
       "      <th>date</th>\n",
       "      <th>date_unix</th>\n",
       "    </tr>\n",
       "  </thead>\n",
       "  <tbody>\n",
       "    <tr>\n",
       "      <th>0</th>\n",
       "      <td>19.5598</td>\n",
       "      <td>6.28498e+08</td>\n",
       "      <td>2.12461e+07</td>\n",
       "      <td>convex-finance</td>\n",
       "      <td>2021-10-23 06:37:36</td>\n",
       "      <td>1.634971e+09</td>\n",
       "    </tr>\n",
       "    <tr>\n",
       "      <th>1</th>\n",
       "      <td>19.5079</td>\n",
       "      <td>6.281e+08</td>\n",
       "      <td>2.03748e+07</td>\n",
       "      <td>convex-finance</td>\n",
       "      <td>2021-10-23 07:38:01</td>\n",
       "      <td>1.634975e+09</td>\n",
       "    </tr>\n",
       "    <tr>\n",
       "      <th>2</th>\n",
       "      <td>19.387</td>\n",
       "      <td>6.26893e+08</td>\n",
       "      <td>1.7392e+07</td>\n",
       "      <td>convex-finance</td>\n",
       "      <td>2021-10-23 08:37:23</td>\n",
       "      <td>1.634978e+09</td>\n",
       "    </tr>\n",
       "  </tbody>\n",
       "</table>\n",
       "</div>"
      ],
      "text/plain": [
       "    prices  market_caps total_volumes            coin                 date  \\\n",
       "0  19.5598  6.28498e+08   2.12461e+07  convex-finance  2021-10-23 06:37:36   \n",
       "1  19.5079    6.281e+08   2.03748e+07  convex-finance  2021-10-23 07:38:01   \n",
       "2   19.387  6.26893e+08    1.7392e+07  convex-finance  2021-10-23 08:37:23   \n",
       "\n",
       "      date_unix  \n",
       "0  1.634971e+09  \n",
       "1  1.634975e+09  \n",
       "2  1.634978e+09  "
      ]
     },
     "execution_count": 4,
     "metadata": {},
     "output_type": "execute_result"
    }
   ],
   "source": [
    "# hourly data for the last 90days\n",
    "coins = [\"convex-finance\", \"ribbon-finance\", \"rari-governance-token\", \"gmx\", \"nftx\", \"ftx-token\", \"spell-token\", \"dopex\" , \"gro-dao-token\", \"audius\", \"ecomi\", \"raydium\"]\n",
    "\n",
    "column_names = [\"prices\", \"market_caps\", \"total_volumes\", \"coin\"]\n",
    "df_coin_historical_data = pd.DataFrame(columns=column_names)\n",
    "\n",
    "for coin in coins:\n",
    "    url = 'https://api.coingecko.com/api/v3/coins/' + coin + '/market_chart?vs_currency=usd&days=90'\n",
    "    r = requests.get(url)\n",
    "    r.json()\n",
    "    df_coin = pd.DataFrame(r.json())    \n",
    "    df_coin[\"coin\"] = coin\n",
    "    df_coin_historical_data = df_coin_historical_data.append(df_coin, ignore_index=True)\n",
    "\n",
    "for i, value in df_coin_historical_data.iterrows():\n",
    "    df_coin_historical_data.loc[i, \"date\"] = datetime.utcfromtimestamp(df_coin_historical_data.loc[i,\"prices\"][0]/1000).strftime('%Y-%m-%d %H:%M:%S')\n",
    "    df_coin_historical_data.loc[i, \"date_unix\"] = df_coin_historical_data.loc[i,\"prices\"][0]/1000 #timestamp is given in milliseconds\n",
    "    df_coin_historical_data.loc[i, \"prices\"] = df_coin_historical_data.loc[i,\"prices\"][1]\n",
    "    df_coin_historical_data.loc[i, \"market_caps\"] = df_coin_historical_data.loc[i,\"market_caps\"][1]\n",
    "    df_coin_historical_data.loc[i, \"total_volumes\"] = df_coin_historical_data.loc[i,\"total_volumes\"][1]\n",
    "\n",
    "df_coin_historical_data.head(3)"
   ]
  },
  {
   "cell_type": "markdown",
   "metadata": {},
   "source": [
    "## Store Data"
   ]
  },
  {
   "cell_type": "code",
   "execution_count": 5,
   "metadata": {},
   "outputs": [],
   "source": [
    "df_coin_historical_data.to_csv(\"./Datasets/historical_data_coin.csv\", index= False)"
   ]
  }
 ],
 "metadata": {
  "kernelspec": {
   "display_name": "Python 3",
   "language": "python",
   "name": "python3"
  },
  "language_info": {
   "codemirror_mode": {
    "name": "ipython",
    "version": 3
   },
   "file_extension": ".py",
   "mimetype": "text/x-python",
   "name": "python",
   "nbconvert_exporter": "python",
   "pygments_lexer": "ipython3",
   "version": "3.8.5"
  }
 },
 "nbformat": 4,
 "nbformat_minor": 5
}
