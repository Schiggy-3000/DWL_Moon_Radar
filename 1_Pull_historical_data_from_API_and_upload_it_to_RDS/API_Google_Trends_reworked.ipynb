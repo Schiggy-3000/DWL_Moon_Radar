{
 "cells": [
  {
   "cell_type": "markdown",
   "metadata": {},
   "source": [
    "## Content\n",
    "\n",
    "1. Goal\n",
    "2. Setup\n",
    "3. Retrieve Data for Keywords\n",
    "4. Store Data"
   ]
  },
  {
   "cell_type": "markdown",
   "metadata": {},
   "source": [
    "## Goal\n",
    "\n",
    "For every keyword, the following data is retrieved through the API:\n",
    "\n",
    "- Keyword\n",
    "- Category the keyword belongs to\n",
    "- How often the keyword was searched for on google\n",
    "- Date"
   ]
  },
  {
   "cell_type": "markdown",
   "metadata": {},
   "source": [
    "Coins for which data is pulled:\n",
    "- Audius\n",
    "- Ecomi\n",
    "- FTX\n",
    "- Convex Finance\n",
    "- Dopex\n",
    "- Rari Governance Token\n",
    "- Spell Token\n",
    "- Raydium\n",
    "- GMX\n",
    "- NFTX\n",
    "- OCEAN\n",
    "- Gro DAO Token\n",
    "- Ribbon Finance"
   ]
  },
  {
   "cell_type": "markdown",
   "metadata": {},
   "source": [
    "## Setup"
   ]
  },
  {
   "cell_type": "code",
   "execution_count": null,
   "metadata": {},
   "outputs": [],
   "source": [
    "# If you installed Python using Anaconda or Miniconda, then use conda:\n",
    "# conda install ...\n",
    "\n",
    "# If you installed Python any other way, then use pip:\n",
    "# !pip install pytrends"
   ]
  },
  {
   "cell_type": "code",
   "execution_count": null,
   "metadata": {},
   "outputs": [],
   "source": [
    "import sys\n",
    "from pytrends.request import TrendReq\n",
    "import pandas as pd\n",
    "from datetime import datetime"
   ]
  },
  {
   "cell_type": "code",
   "execution_count": null,
   "metadata": {},
   "outputs": [],
   "source": [
    "# pd.options.display.max_rows = 4000\n",
    "# pd.options.display.max_columns = 50"
   ]
  },
  {
   "cell_type": "markdown",
   "metadata": {},
   "source": [
    "## Retrieve Data for Keywords"
   ]
  },
  {
   "cell_type": "code",
   "execution_count": null,
   "metadata": {},
   "outputs": [],
   "source": [
    "from pytrends.request import TrendReq\n",
    "import pandas as pd\n",
    "from datetime import datetime\n",
    "\n",
    "#only 5 keywords per request possible\n",
    "kw_list1 = [\"convex finance\", \"ribbon finance\", \"rari governance token\", \"gmx\", \"nftx\"]\n",
    "kw_list2 = [\"ftx token\", \"audius\", \"ecomi\", \"spell token\", \"dopex\"]\n",
    "kw_list3 = [\"gro dao token\",  \"raydium\"]\n",
    "\n",
    "cat = {7: \"Finance\",\n",
    "814: \"Currencies & Foreign Exchange\",\n",
    "12: \"Business & Industrial\",\n",
    "784: \"Business News\",\n",
    "1164: \"Economy News\",\n",
    "1163: \"Financial Markets\",\n",
    "16: \"News\",\n",
    "1164: \"Economy News\",\n",
    "1163: \"Financial Markets\",}\n",
    "\n",
    "#cat_selected=7\n",
    "\n",
    "df_google_trends_historical_data = pd.DataFrame()\n",
    "\n",
    "pytrend = TrendReq(hl='en-US', tz=360)\n",
    "\n",
    "for key in cat:\n",
    "    cat_selected = key\n",
    "\n",
    "    interest_over_time_df1 = pytrend.get_historical_interest(kw_list1, year_start=2021, month_start=10, year_end=2021, month_end=11, geo='', gprop='', cat=cat_selected,sleep=30).drop(columns=['isPartial'])\n",
    "    interest_over_time_df2 = pytrend.get_historical_interest(kw_list2, year_start=2021, month_start=10, year_end=2021, month_end=11, geo='', gprop='', cat=cat_selected,sleep=30).drop(columns=['isPartial'])\n",
    "    interest_over_time_df3 = pytrend.get_historical_interest(kw_list3, year_start=2021, month_start=10, year_end=2021, month_end=11, geo='', gprop='', cat=cat_selected,sleep=30).drop(columns=['isPartial'])\n",
    "\n",
    "    df = pd.concat([interest_over_time_df1, interest_over_time_df2, interest_over_time_df3], axis=1)\n",
    "    df[\"category\"]= cat[cat_selected]\n",
    "    df.reset_index(inplace=True)\n",
    "    df_google_trends_historical_data = df_google_trends_historical_data.append(df, ignore_index=True)\n",
    "\n",
    "\n",
    "df_google_trends_historical_data.head(3)"
   ]
  },
  {
   "cell_type": "code",
   "execution_count": 8,
   "metadata": {},
   "outputs": [
    {
     "name": "stdout",
     "output_type": "stream",
     "text": [
      "7\n",
      "Finance\n",
      "814\n",
      "Currencies & Foreign Exchange\n",
      "12\n",
      "Business & Industrial\n",
      "784\n",
      "Business News\n",
      "1164\n",
      "Economy News\n",
      "1163\n",
      "Financial Markets\n",
      "16\n",
      "News\n"
     ]
    }
   ],
   "source": [
    "cat = {7: \"Finance\",\n",
    "814: \"Currencies & Foreign Exchange\",\n",
    "12: \"Business & Industrial\",\n",
    "784: \"Business News\",\n",
    "1164: \"Economy News\",\n",
    "1163: \"Financial Markets\",\n",
    "16: \"News\",\n",
    "1164: \"Economy News\",\n",
    "1163: \"Financial Markets\"}\n",
    "\n",
    "for key in cat:\n",
    "    print(key)\n",
    "    print(cat[key])"
   ]
  },
  {
   "cell_type": "markdown",
   "metadata": {},
   "source": [
    "## Store Data"
   ]
  },
  {
   "cell_type": "code",
   "execution_count": null,
   "metadata": {},
   "outputs": [],
   "source": [
    "df_google_trends_historical_data.to_csv(\"./Datasets/historical_data_google.csv\", index= False)"
   ]
  }
 ],
 "metadata": {
  "kernelspec": {
   "display_name": "Python 3",
   "language": "python",
   "name": "python3"
  },
  "language_info": {
   "codemirror_mode": {
    "name": "ipython",
    "version": 3
   },
   "file_extension": ".py",
   "mimetype": "text/x-python",
   "name": "python",
   "nbconvert_exporter": "python",
   "pygments_lexer": "ipython3",
   "version": "3.7.4"
  }
 },
 "nbformat": 4,
 "nbformat_minor": 5
}
