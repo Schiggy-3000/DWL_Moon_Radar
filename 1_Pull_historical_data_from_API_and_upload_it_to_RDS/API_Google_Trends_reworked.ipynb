{
 "cells": [
  {
   "cell_type": "markdown",
   "metadata": {},
   "source": [
    "## Content\n",
    "\n",
    "1. Goal\n",
    "2. Setup\n",
    "3. Retrieve Data for Keywords\n",
    "4. Store Data"
   ]
  },
  {
   "cell_type": "markdown",
   "metadata": {},
   "source": [
    "## Goal\n",
    "\n",
    "For every keyword, the following data is retrieved through the API:\n",
    "\n",
    "- Keyword\n",
    "- Category the keyword belongs to\n",
    "- How often the keyword was searched for on google\n",
    "- Date"
   ]
  },
  {
   "cell_type": "markdown",
   "metadata": {},
   "source": [
    "Coins for which data is pulled:\n",
    "- Audius\n",
    "- Ecomi\n",
    "- FTX\n",
    "- Convex Finance\n",
    "- Dopex\n",
    "- Rari Governance Token\n",
    "- Spell Token\n",
    "- Raydium\n",
    "- GMX\n",
    "- NFTX\n",
    "- OCEAN\n",
    "- Gro DAO Token\n",
    "- Ribbon Finance"
   ]
  },
  {
   "cell_type": "markdown",
   "metadata": {},
   "source": [
    "## Setup"
   ]
  },
  {
   "cell_type": "code",
   "execution_count": null,
   "metadata": {},
   "outputs": [],
   "source": [
    "# If you installed Python using Anaconda or Miniconda, then use conda:\n",
    "# conda install ...\n",
    "\n",
    "# If you installed Python any other way, then use pip:\n",
    "# !pip install pytrends"
   ]
  },
  {
   "cell_type": "code",
   "execution_count": null,
   "metadata": {},
   "outputs": [],
   "source": [
    "import sys\n",
    "from pytrends.request import TrendReq\n",
    "import pandas as pd\n",
    "from datetime import datetime"
   ]
  },
  {
   "cell_type": "code",
   "execution_count": null,
   "metadata": {},
   "outputs": [],
   "source": [
    "# pd.options.display.max_rows = 4000\n",
    "# pd.options.display.max_columns = 50"
   ]
  },
  {
   "cell_type": "markdown",
   "metadata": {},
   "source": [
    "## Retrieve Data for Keywords"
   ]
  },
  {
   "cell_type": "code",
   "execution_count": null,
   "metadata": {},
   "outputs": [],
   "source": [
    "... insert code here ...\n",
    "\n",
    "\n",
    "\n",
    "... print df head here ...\n",
    "\n",
    "\n",
    "df.head(3)"
   ]
  },
  {
   "cell_type": "markdown",
   "metadata": {},
   "source": [
    "## Store Data"
   ]
  },
  {
   "cell_type": "code",
   "execution_count": null,
   "metadata": {},
   "outputs": [],
   "source": [
    "df_today.to_csv(\"./Datasets/historical_data_google.csv\", index= False)"
   ]
  }
 ],
 "metadata": {
  "kernelspec": {
   "display_name": "Python 3",
   "language": "python",
   "name": "python3"
  },
  "language_info": {
   "codemirror_mode": {
    "name": "ipython",
    "version": 3
   },
   "file_extension": ".py",
   "mimetype": "text/x-python",
   "name": "python",
   "nbconvert_exporter": "python",
   "pygments_lexer": "ipython3",
   "version": "3.8.5"
  }
 },
 "nbformat": 4,
 "nbformat_minor": 5
}
